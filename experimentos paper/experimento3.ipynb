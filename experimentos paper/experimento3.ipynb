{
 "cells": [
  {
   "cell_type": "code",
   "execution_count": 1,
   "metadata": {
    "scrolled": false
   },
   "outputs": [
    {
     "name": "stdout",
     "output_type": "stream",
     "text": [
      "-------------\n",
      "0.05715705128205128\n",
      ".\n",
      "-------------\n",
      "0.1433525641025641\n",
      ".\n",
      "-------------\n",
      "0.22917307692307695\n",
      ".\n",
      "-------------\n",
      "0.3150192307692308\n",
      ".\n",
      "-------------\n",
      "0.4010160256410256\n",
      ".\n",
      "-------------\n",
      "0.4886955128205129\n",
      ".\n",
      "-------------\n",
      "0.5756249999999999\n",
      ".\n",
      "-------------\n",
      "0.6606282051282051\n",
      ".\n",
      "-------------\n",
      "0.7475384615384616\n",
      ".\n",
      "-------------\n",
      "0.8355032051282052\n",
      ".\n",
      "-------------\n",
      "0.9235769230769231\n",
      ".\n",
      "[[0.30374294 0.44414654 0.97687112]\n",
      " [0.2954942  0.44443986 0.97702822]\n",
      " [0.28688842 0.44330589 0.97691696]\n",
      " [0.27692033 0.44422999 0.97671766]\n",
      " [0.2670236  0.44430668 0.97695335]\n",
      " [0.25305166 0.44524129 0.97704249]\n",
      " [0.23796183 0.44801959 0.97739949]\n",
      " [0.21943496 0.44937185 0.97687117]\n",
      " [0.19631069 0.45619102 0.97729385]\n",
      " [0.16499589 0.46159918 0.97709743]\n",
      " [0.11597896 0.4647626  0.97712932]]\n",
      "cantidad de pares de comunicacion\n"
     ]
    },
    {
     "data": {
      "text/plain": [
       "<matplotlib.figure.Figure at 0x7ff0580c7250>"
      ]
     },
     "metadata": {},
     "output_type": "display_data"
    },
    {
     "name": "stdout",
     "output_type": "stream",
     "text": [
      "Porcentaje grupos con distinta media de crimen\n",
      "[0.65 0.3  0.05]\n",
      "Vector media de crimen por grupos\n",
      "[0.   0.05 1.7 ]\n",
      "velocidad de olvido\n",
      "0.9\n",
      "impacto de la inseguridad nu\n",
      "0.9\n",
      "Resistencia a la inseguridad mu\n",
      "0.1\n"
     ]
    }
   ],
   "source": [
    "import numpy as np\n",
    "import random\n",
    "import matplotlib.pyplot as plt\n",
    "\n",
    "n = 10000  # numero de personas\n",
    "T = 312  # numero de periodos 6 años \n",
    "s = np.random.rand(n)  # vector PoS de las personas en el intante t, al principio aleatorio\n",
    "g=np.zeros(n)#vector identificacion de grupo\n",
    "psi = 0.9  # velocidad perdida de memoria\n",
    "nu = 0.9  # Impacto de la inseguridad\n",
    "mu = 0.1  # Resistencia a la inseguridad\n",
    "St = np.zeros((T,n ))  # PoS a lo largo del tiempo\n",
    "m = 3  # cantidad de grupos con distinta tasa de crimen por periodo\n",
    "lamda = np.array([0,0.05,1.7])  # tasas de crimen de los grupos\n",
    "lamda[0]=0 #grupo inmune\n",
    "q = np.array([0.65, 0.3, 0.05])  # porcentajes de los grupos en la poblacion total\n",
    "\n",
    "#identificacion de cada sujeto con su respectiva media de crimen \n",
    "for i in range(int(n*q[0])):\n",
    "    g[i]=lamda[0]\n",
    "for i in range(int(n*q[0]),int(n*(q[0]+q[1]))):\n",
    "    g[i]=lamda[1]\n",
    "for i in range(int(n*(q[0]+q[1])),n):\n",
    "    g[i]=lamda[2]\n",
    "\n",
    "        \n",
    "perceptionHomo=np.zeros((11,3))#percepcion segun la homofilia de los 3 grupos\n",
    "homofilia=np.zeros(T)\n",
    "for h in range(11):\n",
    "# calculo de la Pos en el intante t\n",
    "# en t=0 es s\n",
    "    print(\"-------------\")\n",
    "    \n",
    "    St[0] = s\n",
    "    parescom=np.zeros(T)#cantidad pares de comunicacion en cada periodo\n",
    "    commismogrupo=np.zeros(T)#cantidad de comunicaciones en el mismo grupo\n",
    "    for t in range(1,T):\n",
    "        # Al inicio de cada periodo aplicamos la perdida de memoria\n",
    "        s = psi * s\n",
    "        \n",
    "         #pares de comunicacion \n",
    "        #vector de personas aleatoriamente ordenado \n",
    "        apersonas=np.random.permutation(np.arange(n))\n",
    "        #escogemos  10% del extremo izq\n",
    "        pares1=apersonas[:int(n*0.1)]\n",
    "        pares2=np.zeros(len(pares1))\n",
    "        for k in range(len(pares1)):\n",
    "            varhomo=np.random.binomial(1,h/10.0)    \n",
    "            if varhomo==1:#si es 1 se comunica en su mismo grupo\n",
    "            # seleccionamos con quien se da la comunicacion\n",
    "                j = np.random.randint(n)\n",
    "                contador=0\n",
    "                while j in pares1 or j in pares2 or g[pares1[k]]!=g[j]:\n",
    "                    j = np.random.randint(n)\n",
    "                    contador=contador+1\n",
    "                    if contador>5:\n",
    "                        break               \n",
    "            elif varhomo==0:#si es 0 se comunica con otro grupo\n",
    "            # seleccionamos con quien se da la comunicacion\n",
    "                j = np.random.randint(n)\n",
    "                contador=0\n",
    "                while j in pares1 or j in pares2 or g[pares1[k]]==g[j]:\n",
    "                    j = np.random.randint(n)\n",
    "                    contador=contador+1\n",
    "                    if contador>5:\n",
    "                        break\n",
    "            #despues de definir j lo ponemos en el vector pares2\n",
    "            pares2[k]=j       \n",
    "        for k in range(len(pares1)):\n",
    "            aux1=int(pares1[k])\n",
    "            aux2=int(pares2[k])\n",
    "            if s[aux1]<s[aux2]:\n",
    "                s[aux1] = s[aux1] - nu * (s[aux1] - s[aux2])\n",
    "                s[aux2] = s[aux2] - mu * (s[aux2] - s[aux1])\n",
    "            else:\n",
    "                s[aux1] = s[aux1] - mu * (s[aux1] - s[aux2])\n",
    "                s[aux2] = s[aux2] - nu * (s[aux2] - s[aux1])\n",
    "            #medicion de la homofilia\n",
    "            if g[aux1]==g[aux2]:\n",
    "                commismogrupo[t]=commismogrupo[t]+1\n",
    "    \n",
    "    \n",
    "        parescom[t]=len(pares1)\n",
    "        homofilia[t]=commismogrupo[t]/parescom[t]\n",
    "        #crimen                   \n",
    "        for k in range(n):\n",
    "            # numero de crimenes sufridos por la persona k \n",
    "            X = np.random.poisson(g[k])\n",
    "            # posicion hubo crimen o no\n",
    "            I = 0\n",
    "            if X >= 1:  # si hubo al menos un crimen I=1 de lo contrario I=0\n",
    "                I = 1\n",
    "            # efecto del crimen en la percepcion de k para el siguiente periodo\n",
    "            s[k] = I + (1 - I) * s[k]    \n",
    "        St[t] = s\n",
    "    print(np.mean(homofilia))\n",
    "    perceptionHomo[h][0]=np.mean(np.mean(St[104:,range(int(n*q[0]))],axis=1))\n",
    "    perceptionHomo[h][1]=np.mean(np.mean(St[104:,range(int(n*q[0]),int(n*q[0]+n*q[1]))],axis=1))\n",
    "    perceptionHomo[h][2]=np.mean(np.mean(St[104:,range(int(n*q[0]+n*q[1]),n)],axis=1))\n",
    "    print(\".\")\n",
    "print(perceptionHomo)\n",
    "print(\"cantidad de pares de comunicacion\")\n",
    "plt.plot(parescom[1:])\n",
    "plt.show()\n",
    "print(\"Porcentaje grupos con distinta media de crimen\")\n",
    "print(q)\n",
    "print(\"Vector media de crimen por grupos\")\n",
    "print(lamda)\n",
    "print(\"velocidad de olvido\")\n",
    "print(psi)\n",
    "print(\"impacto de la inseguridad nu\")\n",
    "print(nu)\n",
    "print(\"Resistencia a la inseguridad mu\")\n",
    "print(mu)\n"
   ]
  },
  {
   "cell_type": "code",
   "execution_count": 12,
   "metadata": {},
   "outputs": [
    {
     "data": {
      "text/plain": [
       "[Text(0,0,u'0'),\n",
       " Text(0,0,u'0.1'),\n",
       " Text(0,0,u'0.2'),\n",
       " Text(0,0,u'0.3'),\n",
       " Text(0,0,u'0.4'),\n",
       " Text(0,0,u'0.5'),\n",
       " Text(0,0,u'0.6'),\n",
       " Text(0,0,u'0.7'),\n",
       " Text(0,0,u'0.8'),\n",
       " Text(0,0,u'0.9'),\n",
       " Text(0,0,u'1')]"
      ]
     },
     "execution_count": 12,
     "metadata": {},
     "output_type": "execute_result"
    },
    {
     "data": {
      "image/png": "[encoded data removed]",
      "text/plain": [
       "<matplotlib.figure.Figure at 0x7ff011837cd0>"
      ]
     },
     "metadata": {},
     "output_type": "display_data"
    }
   ],
   "source": [
    "import seaborn as sns\n",
    "sns.set(color_codes=True)\n",
    "plt.figure(figsize=(20,5))\n",
    "sns.tsplot(perceptionHomo[:,0].T,color=\"blue\")\n",
    "sns.tsplot(perceptionHomo[:,1].T,color=\"green\")\n",
    "sns.tsplot(perceptionHomo[:,2].T,color=\"red\")\n",
    "plt.legend([\"grupo 1\",\"grupo 2\", \"grupo 3\"])\n",
    "plt.xlabel(\"Homophily\")\n",
    "plt.ylabel(\"PoS\")\n",
    "ax = plt.axes()\n",
    "ax.xaxis.set_ticks([0, 1, 2, 3, 4,5,6,7,8,9,10])\n",
    "ax.xaxis.set_ticklabels(['0', '0.1', '0.2', '0.3', '0.4', '0.5', '0.6', '0.7', '0.8', '0.9', '1'])"
   ]
  },
  {
   "cell_type": "code",
   "execution_count": 5,
   "metadata": {},
   "outputs": [
    {
     "data": {
      "text/plain": [
       "array([[0.30374294, 0.44414654, 0.97687112],\n",
       "       [0.2954942 , 0.44443986, 0.97702822],\n",
       "       [0.28688842, 0.44330589, 0.97691696],\n",
       "       [0.27692033, 0.44422999, 0.97671766],\n",
       "       [0.2670236 , 0.44430668, 0.97695335],\n",
       "       [0.25305166, 0.44524129, 0.97704249],\n",
       "       [0.23796183, 0.44801959, 0.97739949],\n",
       "       [0.21943496, 0.44937185, 0.97687117],\n",
       "       [0.19631069, 0.45619102, 0.97729385],\n",
       "       [0.16499589, 0.46159918, 0.97709743],\n",
       "       [0.11597896, 0.4647626 , 0.97712932]])"
      ]
     },
     "execution_count": 5,
     "metadata": {},
     "output_type": "execute_result"
    }
   ],
   "source": [
    "perceptionHomo"
   ]
  },
  {
   "cell_type": "code",
   "execution_count": null,
   "metadata": {},
   "outputs": [],
   "source": []
  }
 ],
 "metadata": {
  "kernelspec": {
   "display_name": "Python 2",
   "language": "python",
   "name": "python2"
  },
  "language_info": {
   "codemirror_mode": {
    "name": "ipython",
    "version": 2
   },
   "file_extension": ".py",
   "mimetype": "text/x-python",
   "name": "python",
   "nbconvert_exporter": "python",
   "pygments_lexer": "ipython2",
   "version": "2.7.12"
  }
 },
 "nbformat": 4,
 "nbformat_minor": 2
}
