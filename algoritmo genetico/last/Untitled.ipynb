{
 "cells": [
  {
   "cell_type": "code",
   "execution_count": 1,
   "metadata": {},
   "outputs": [],
   "source": [
    "import warnings\n",
    "warnings.filterwarnings('ignore')"
   ]
  },
  {
   "cell_type": "code",
   "execution_count": 2,
   "metadata": {},
   "outputs": [],
   "source": [
    "import sys\n",
    "import os\n",
    "sys.path.append(\"/home/runlab/scripts/cpulido_POS/PoS/algoritmo genetico/\")\n",
    "\n",
    "\n",
    "from pos import *"
   ]
  },
  {
   "cell_type": "code",
   "execution_count": 4,
   "metadata": {},
   "outputs": [],
   "source": [
    "sg=np.load(\"solucion_sg__g_m_v.npy\")\n",
    "sg_gen = np.load(\"solucion_sg__g_m_v__p_gen.npy\")"
   ]
  },
  {
   "cell_type": "code",
   "execution_count": 5,
   "metadata": {},
   "outputs": [],
   "source": [
    "sag=np.load(\"solucion_sag__g_m_v.npy\")\n",
    "sag_gen = np.load(\"solucion_sag__g_m_v__p_gen.npy\")"
   ]
  },
  {
   "cell_type": "code",
   "execution_count": 7,
   "metadata": {},
   "outputs": [],
   "source": [
    "n=100\n",
    "porcentaje_crimen=np.array([0.5,0.3,0.2])\n",
    "s0=np.random.rand(n)\n",
    "crimen=3\n",
    "modelo=\"g_m_v\"\n",
    "dist_crimn=dist_crimen(crimen=crimen,n=n,porcentaje=porcentaje_crimen)"
   ]
  },
  {
   "cell_type": "code",
   "execution_count": 8,
   "metadata": {},
   "outputs": [
    {
     "data": {
      "text/plain": [
       "0.48213450879718994"
      ]
     },
     "execution_count": 8,
     "metadata": {},
     "output_type": "execute_result"
    }
   ],
   "source": [
    "funcion_objetivo(state=sg,\n",
    "                 s0=s0,\n",
    "                 distribucion_crimen=dist_crimn,\n",
    "                 n=n,\n",
    "                 tipo=\"sg\",\n",
    "                 lamda=lamda,\n",
    "                 modelo=modelo)"
   ]
  },
  {
   "cell_type": "code",
   "execution_count": 9,
   "metadata": {},
   "outputs": [
    {
     "data": {
      "text/plain": [
       "0.3821758992777792"
      ]
     },
     "execution_count": 9,
     "metadata": {},
     "output_type": "execute_result"
    }
   ],
   "source": [
    "funcion_objetivo(state=sg,\n",
    "                 s0=s0,\n",
    "                 distribucion_crimen=dist_crimn,\n",
    "                 n=n,\n",
    "                 tipo=\"sag\",\n",
    "                 lamda=lamda,\n",
    "                 modelo=modelo)"
   ]
  },
  {
   "cell_type": "code",
   "execution_count": 10,
   "metadata": {},
   "outputs": [
    {
     "data": {
      "text/plain": [
       "0.46890401297073214"
      ]
     },
     "execution_count": 10,
     "metadata": {},
     "output_type": "execute_result"
    }
   ],
   "source": [
    "funcion_objetivo(state=sag,\n",
    "                 s0=s0,\n",
    "                 distribucion_crimen=dist_crimn,\n",
    "                 n=n,\n",
    "                 tipo=\"sg\",\n",
    "                 lamda=lamda,\n",
    "                 modelo=modelo)"
   ]
  },
  {
   "cell_type": "code",
   "execution_count": 11,
   "metadata": {},
   "outputs": [
    {
     "data": {
      "text/plain": [
       "0.3971169071617282"
      ]
     },
     "execution_count": 11,
     "metadata": {},
     "output_type": "execute_result"
    }
   ],
   "source": [
    "funcion_objetivo(state=sag,\n",
    "                 s0=s0,\n",
    "                 distribucion_crimen=dist_crimn,\n",
    "                 n=n,\n",
    "                 tipo=\"sag\",\n",
    "                 lamda=lamda,\n",
    "                 modelo=modelo)"
   ]
  },
  {
   "cell_type": "code",
   "execution_count": null,
   "metadata": {},
   "outputs": [],
   "source": []
  }
 ],
 "metadata": {
  "kernelspec": {
   "display_name": "PoS",
   "language": "python",
   "name": "pos"
  },
  "language_info": {
   "codemirror_mode": {
    "name": "ipython",
    "version": 2
   },
   "file_extension": ".py",
   "mimetype": "text/x-python",
   "name": "python",
   "nbconvert_exporter": "python",
   "pygments_lexer": "ipython2",
   "version": "2.7.15rc1"
  }
 },
 "nbformat": 4,
 "nbformat_minor": 2
}
