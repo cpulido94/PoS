{
 "cells": [
  {
   "cell_type": "code",
   "execution_count": 1,
   "metadata": {
    "scrolled": false
   },
   "outputs": [
    {
     "name": "stdout",
     "output_type": "stream",
     "text": [
      "-------------\n",
      "0.0020512820512820513\n",
      ".\n",
      "-------------\n",
      "0.09064102564102565\n",
      ".\n",
      "-------------\n",
      "0.18580128205128205\n",
      ".\n",
      "-------------\n",
      "0.270448717948718\n",
      ".\n",
      "-------------\n",
      "0.3607692307692308\n",
      ".\n",
      "-------------\n",
      "0.4501282051282051\n",
      ".\n",
      "-------------\n",
      "0.5432692307692307\n",
      ".\n",
      "-------------\n",
      "0.6355448717948718\n",
      ".\n",
      "-------------\n",
      "0.7273076923076923\n",
      ".\n",
      "-------------\n",
      "0.8115705128205128\n",
      ".\n",
      "-------------\n",
      "0.905128205128205\n",
      ".\n",
      "[[0.50771074 0.39001736 0.69855129]\n",
      " [0.49147058 0.37777457 0.70196704]\n",
      " [0.48718371 0.36184371 0.70563042]\n",
      " [0.49204653 0.35310674 0.70750214]\n",
      " [0.48799494 0.34120218 0.71610904]\n",
      " [0.48935627 0.32315016 0.71557315]\n",
      " [0.48580202 0.30355356 0.71908913]\n",
      " [0.47421612 0.27835231 0.72685769]\n",
      " [0.47264641 0.24026284 0.72259865]\n",
      " [0.47838925 0.20786593 0.73244468]\n",
      " [0.47723414 0.14171676 0.73623206]]\n",
      "cantidad de pares de comunicacion\n"
     ]
    },
    {
     "data": {
      "text/plain": [
       "<matplotlib.figure.Figure at 0x7f1ffc0e5250>"
      ]
     },
     "metadata": {},
     "output_type": "display_data"
    },
    {
     "name": "stdout",
     "output_type": "stream",
     "text": [
      "Porcentaje grupos con distinta media de crimen\n",
      "[0.314 0.359 0.327]\n",
      "Vector media de crimen por grupos\n",
      "[0.05 0.   0.2 ]\n",
      "velocidad de olvido\n",
      "0.9\n",
      "impacto de la inseguridad nu\n",
      "0.9\n",
      "Resistencia a la inseguridad mu\n",
      "0.1\n"
     ]
    }
   ],
   "source": [
    "import numpy as np\n",
    "import random\n",
    "import matplotlib.pyplot as plt\n",
    "\n",
    "n = 1000  # numero de personas\n",
    "T = 312  # numero de periodos 6 años \n",
    "s = np.random.rand(n)  # vector PoS de las personas en el intante t, al principio aleatorio\n",
    "g=np.zeros(n)#vector identificacion de grupo\n",
    "psi = 0.9  # velocidad perdida de memoria\n",
    "nu = 0.9  # Impacto de la inseguridad\n",
    "mu = 0.1  # Resistencia a la inseguridad\n",
    "St = np.zeros((T,n ))  # PoS a lo largo del tiempo\n",
    "m = 3  # cantidad de grupos con distinta tasa de crimen por periodo\n",
    "lamda = np.array([0.05,0,0.2])  # tasas de crimen de los grupos\n",
    "#lamda[0]=0 #grupo inmune\n",
    "q = np.array([0.314, 0.359, 0.327])  # porcentajes de los grupos en la poblacion total\n",
    "\n",
    "#identificacion de cada sujeto con su respectiva media de crimen \n",
    "for i in range(int(n*q[0])):\n",
    "    g[i]=lamda[0]\n",
    "for i in range(int(n*q[0]),int(n*(q[0]+q[1]))):\n",
    "    g[i]=lamda[1]\n",
    "for i in range(int(n*(q[0]+q[1])),n):\n",
    "    g[i]=lamda[2]\n",
    "\n",
    "        \n",
    "perceptionHomo=np.zeros((11,3))#percepcion segun la homofilia de los 3 grupos\n",
    "homofilia=np.zeros(T)\n",
    "for h in range(11):\n",
    "# calculo de la Pos en el intante t\n",
    "# en t=0 es s\n",
    "    print(\"-------------\")\n",
    "    \n",
    "    St[0] = s\n",
    "    parescom=np.zeros(T)#cantidad pares de comunicacion en cada periodo\n",
    "    commismogrupo=np.zeros(T)#cantidad de comunicaciones en el mismo grupo\n",
    "    for t in range(1,T):\n",
    "        # Al inicio de cada periodo aplicamos la perdida de memoria\n",
    "        s = psi * s\n",
    "        \n",
    "         #pares de comunicacion \n",
    "        #vector de personas aleatoriamente ordenado \n",
    "        apersonas=np.random.permutation(np.arange(n))\n",
    "        #escogemos  10% del extremo izq\n",
    "        pares1=apersonas[:int(n*0.1)]\n",
    "        pares2=np.zeros(len(pares1))\n",
    "        for k in range(len(pares1)):\n",
    "            varhomo=np.random.binomial(1,h/10.0)    \n",
    "            if varhomo==1:#si es 1 se comunica en su mismo grupo\n",
    "            # seleccionamos con quien se da la comunicacion\n",
    "                j = np.random.randint(n)\n",
    "                contador=0\n",
    "                while j in pares1 or j in pares2 or g[pares1[k]]!=g[j]:\n",
    "                    j = np.random.randint(n)\n",
    "                    contador=contador+1\n",
    "                    if contador>5:\n",
    "                        break               \n",
    "            elif varhomo==0:#si es 0 se comunica con otro grupo\n",
    "            # seleccionamos con quien se da la comunicacion\n",
    "                j = np.random.randint(n)\n",
    "                contador=0\n",
    "                while j in pares1 or j in pares2 or g[pares1[k]]==g[j]:\n",
    "                    j = np.random.randint(n)\n",
    "                    contador=contador+1\n",
    "                    if contador>5:\n",
    "                        break\n",
    "            #despues de definir j lo ponemos en el vector pares2\n",
    "            pares2[k]=j       \n",
    "        for k in range(len(pares1)):\n",
    "            aux1=int(pares1[k])\n",
    "            aux2=int(pares2[k])\n",
    "            if s[aux1]<s[aux2]:\n",
    "                s[aux1] = s[aux1] - nu * (s[aux1] - s[aux2])\n",
    "                s[aux2] = s[aux2] - mu * (s[aux2] - s[aux1])\n",
    "            else:\n",
    "                s[aux1] = s[aux1] - mu * (s[aux1] - s[aux2])\n",
    "                s[aux2] = s[aux2] - nu * (s[aux2] - s[aux1])\n",
    "            #medicion de la homofilia\n",
    "            if g[aux1]==g[aux2]:\n",
    "                commismogrupo[t]=commismogrupo[t]+1\n",
    "    \n",
    "    \n",
    "        parescom[t]=len(pares1)\n",
    "        homofilia[t]=commismogrupo[t]/parescom[t]\n",
    "        #crimen                   \n",
    "        for k in range(n):\n",
    "            # numero de crimenes sufridos por la persona k \n",
    "            X = np.random.poisson(g[k])\n",
    "            # posicion hubo crimen o no\n",
    "            I = 0\n",
    "            if X >= 1:  # si hubo al menos un crimen I=1 de lo contrario I=0\n",
    "                I = 1\n",
    "            # efecto del crimen en la percepcion de k para el siguiente periodo\n",
    "            s[k] = I + (1 - I) * s[k]    \n",
    "        St[t] = s\n",
    "    print(np.mean(homofilia))\n",
    "    perceptionHomo[h][0]=np.mean(np.mean(St[104:,range(int(n*q[0]))],axis=1))\n",
    "    perceptionHomo[h][1]=np.mean(np.mean(St[104:,range(int(n*q[0]),int(n*q[0]+n*q[1]))],axis=1))\n",
    "    perceptionHomo[h][2]=np.mean(np.mean(St[104:,range(int(n*q[0]+n*q[1]),n)],axis=1))\n",
    "    print(\".\")\n",
    "print(perceptionHomo)\n",
    "print(\"cantidad de pares de comunicacion\")\n",
    "plt.plot(parescom[1:])\n",
    "plt.show()\n",
    "print(\"Porcentaje grupos con distinta media de crimen\")\n",
    "print(q)\n",
    "print(\"Vector media de crimen por grupos\")\n",
    "print(lamda)\n",
    "print(\"velocidad de olvido\")\n",
    "print(psi)\n",
    "print(\"impacto de la inseguridad nu\")\n",
    "print(nu)\n",
    "print(\"Resistencia a la inseguridad mu\")\n",
    "print(mu)\n"
   ]
  },
  {
   "cell_type": "code",
   "execution_count": null,
   "metadata": {},
   "outputs": [],
   "source": []
  },
  {
   "cell_type": "code",
   "execution_count": null,
   "metadata": {},
   "outputs": [],
   "source": []
  },
  {
   "cell_type": "code",
   "execution_count": 4,
   "metadata": {},
   "outputs": [
    {
     "data": {
      "text/plain": [
       "[Text(0,0,u'0'),\n",
       " Text(0,0,u'0.1'),\n",
       " Text(0,0,u'0.2'),\n",
       " Text(0,0,u'0.3'),\n",
       " Text(0,0,u'0.4'),\n",
       " Text(0,0,u'0.5'),\n",
       " Text(0,0,u'0.6'),\n",
       " Text(0,0,u'0.7'),\n",
       " Text(0,0,u'0.8'),\n",
       " Text(0,0,u'0.9'),\n",
       " Text(0,0,u'1')]"
      ]
     },
     "execution_count": 4,
     "metadata": {},
     "output_type": "execute_result"
    },
    {
     "data": {
      "image/png": "[encoded data removed]",
      "text/plain": [
       "<matplotlib.figure.Figure at 0x7f200c5de690>"
      ]
     },
     "metadata": {},
     "output_type": "display_data"
    }
   ],
   "source": [
    "import seaborn as sns\n",
    "sns.set(color_codes=True)\n",
    "plt.figure(figsize=(20,5))\n",
    "sns.tsplot(perceptionHomo[:,0].T,color=\"green\")\n",
    "sns.tsplot(perceptionHomo[:,1].T,color=\"blue\")\n",
    "sns.tsplot(perceptionHomo[:,2].T,color=\"red\")\n",
    "plt.legend([\"grupo 1\",\"grupo 2\", \"grupo 3\"])\n",
    "plt.xlabel(\"Homophily\")\n",
    "plt.ylabel(\"PoS\")\n",
    "ax = plt.axes()\n",
    "ax.xaxis.set_ticks([0, 1, 2, 3, 4,5,6,7,8,9,10])\n",
    "ax.xaxis.set_ticklabels(['0', '0.1', '0.2', '0.3', '0.4', '0.5', '0.6', '0.7', '0.8', '0.9', '1'])"
   ]
  },
  {
   "cell_type": "code",
   "execution_count": 3,
   "metadata": {},
   "outputs": [
    {
     "data": {
      "text/plain": [
       "array([[0.50771074, 0.39001736, 0.69855129],\n",
       "       [0.49147058, 0.37777457, 0.70196704],\n",
       "       [0.48718371, 0.36184371, 0.70563042],\n",
       "       [0.49204653, 0.35310674, 0.70750214],\n",
       "       [0.48799494, 0.34120218, 0.71610904],\n",
       "       [0.48935627, 0.32315016, 0.71557315],\n",
       "       [0.48580202, 0.30355356, 0.71908913],\n",
       "       [0.47421612, 0.27835231, 0.72685769],\n",
       "       [0.47264641, 0.24026284, 0.72259865],\n",
       "       [0.47838925, 0.20786593, 0.73244468],\n",
       "       [0.47723414, 0.14171676, 0.73623206]])"
      ]
     },
     "execution_count": 3,
     "metadata": {},
     "output_type": "execute_result"
    }
   ],
   "source": [
    "perceptionHomo"
   ]
  },
  {
   "cell_type": "code",
   "execution_count": null,
   "metadata": {},
   "outputs": [],
   "source": []
  }
 ],
 "metadata": {
  "kernelspec": {
   "display_name": "Python 2",
   "language": "python",
   "name": "python2"
  },
  "language_info": {
   "codemirror_mode": {
    "name": "ipython",
    "version": 2
   },
   "file_extension": ".py",
   "mimetype": "text/x-python",
   "name": "python",
   "nbconvert_exporter": "python",
   "pygments_lexer": "ipython2",
   "version": "2.7.12"
  }
 },
 "nbformat": 4,
 "nbformat_minor": 2
}
