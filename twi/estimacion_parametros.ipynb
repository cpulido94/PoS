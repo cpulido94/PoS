{
 "cells": [
  {
   "cell_type": "code",
   "execution_count": null,
   "metadata": {},
   "outputs": [],
   "source": [
    "import pandas as pd\n",
    "import numpy as np\n",
    "import os\n",
    "import csv\n",
    "import datetime"
   ]
  },
  {
   "cell_type": "code",
   "execution_count": null,
   "metadata": {},
   "outputs": [],
   "source": [
    "base_dir=\"/home/runlab/cpulido_POS/Data_twitter/TWITTER_COL/\"\n",
    "folder_tweets=os.path.join(base_dir,\"TWEETS\")\n",
    "archives=os.listdir(folder_tweets)"
   ]
  },
  {
   "cell_type": "code",
   "execution_count": null,
   "metadata": {},
   "outputs": [],
   "source": [
    "def get_users_with_tweets(folder_tweets):\n",
    "        archivo=open(folder_tweets, 'rb' )\n",
    "        reader = csv.reader(archivo,delimiter='\\t')\n",
    "        tabla=[]\n",
    "        for line in reader:\n",
    "            tabla.append(line)\n",
    "        sujetos={}\n",
    "        for item in reversed(tabla[1:]):\n",
    "            if item[0] not in sujetos:\n",
    "                sujetos[item[0]]={\"tweets\":[],\"lugar\":os.path.splitext(folder_tweets)[0].split(\"_\")[-1]}\n",
    "            tweet=str.split(item[2])\n",
    "            sujetos[item[0]][\"tweets\"].append([item[1],tweet])\n",
    "        return sujetos\n",
    "def number_users(s):\n",
    "        return len(s)\n",
    "\n",
    "def tweets_for_user(s,user_id):\n",
    "        if user_id in s:\n",
    "            return len(s[user_id][\"tweets\"])\n",
    "        else:\n",
    "            return \"User with Id=\"+user_id+\" not found\"\n",
    "\n",
    "def mean_std_tweets_for_users(s):\n",
    "        keys=s.keys()\n",
    "        values=[]\n",
    "        for k in keys:\n",
    "            values.append(len(s[k][\"tweets\"]))\n",
    "        mean=np.mean(values)\n",
    "        std=np.std(values)\n",
    "        return mean,std\n",
    "\n",
    "def fecha_min_max_by_city(s):\n",
    "    fecha_min=datetime.datetime.today()    \n",
    "    fecha_max=datetime.datetime.strptime(\"1950-01-01\",'%Y-%m-%d')\n",
    "    for user in s:\n",
    "        for tweet in s[user][\"tweets\"]:\n",
    "            fecha_tweet=datetime.datetime.strptime(tweet[0],'%Y-%m-%d')\n",
    "            if fecha_tweet < fecha_min:\n",
    "                fecha_min =fecha_tweet\n",
    "            if fecha_tweet > fecha_max:\n",
    "                fecha_max =fecha_tweet\n",
    "    return fecha_min,fecha_max"
   ]
  },
  {
   "cell_type": "code",
   "execution_count": null,
   "metadata": {},
   "outputs": [],
   "source": [
    "table_means_std=np.zeros((len(archives),3))\n",
    "name_cities=[]\n",
    "for i in range(len(archives)):\n",
    "    tsv=os.path.join(folder_tweets,archives[i])\n",
    "    city = get_users_with_tweets(tsv)\n",
    "    name_cities.append(os.path.splitext(tsv)[0].split(\"_\")[-1])\n",
    "    mean,std=mean_std_tweets_for_users(city)\n",
    "    table_means_std[i]=[number_users(city),mean,std]\n",
    "table_means_std=pd.DataFrame(table_means_std,index=name_cities,columns=[\"Num. Users\", \"Mean\",\"Std\"])\n",
    "table_means_std=table_means_std.sort_index()"
   ]
  },
  {
   "cell_type": "code",
   "execution_count": null,
   "metadata": {},
   "outputs": [],
   "source": [
    "total_users=table_means_std[\"Num. Users\"].sum()\n",
    "print(\"Total users: \"+str(total_users))\n",
    "print(\"Total cities: \"+str(table_means_std[\"Num. Users\"].count() ))"
   ]
  },
  {
   "cell_type": "code",
   "execution_count": null,
   "metadata": {
    "scrolled": true
   },
   "outputs": [],
   "source": [
    "table_means_std.sort_values(\"Num. Users\")[:10]"
   ]
  },
  {
   "cell_type": "code",
   "execution_count": null,
   "metadata": {},
   "outputs": [],
   "source": [
    "table_means_std.sort_values(\"Num. Users\")[-10:]"
   ]
  },
  {
   "cell_type": "code",
   "execution_count": null,
   "metadata": {},
   "outputs": [],
   "source": [
    "import seaborn as sns\n",
    "import matplotlib.pyplot as plt\n",
    "f, ax = plt.subplots(figsize=(10, 5))\n",
    "top=table_means_std.sort_values(\"Num. Users\")\n",
    "ax = sns.barplot(x=\"Num. Users\" , y=top[:10].index,data=top[:10])\n",
    "ax.set_xscale('log')\n",
    "ax.set_title(\"Bottom 10 cities Num. Users\",size=20)\n",
    "f, ax = plt.subplots(figsize=(10, 5))\n",
    "ax = sns.barplot(x=\"Num. Users\" , y=top[-10:].index,data=top[-10:])\n",
    "ax.set_xscale('log')\n",
    "ax.set_title(\"Top 10 cities Num. Users\",size=20)"
   ]
  },
  {
   "cell_type": "code",
   "execution_count": null,
   "metadata": {},
   "outputs": [],
   "source": [
    "table_means_std.sort_values(\"Mean\")[:10]"
   ]
  },
  {
   "cell_type": "code",
   "execution_count": null,
   "metadata": {},
   "outputs": [],
   "source": [
    "table_means_std.sort_values(\"Mean\")[-10:]"
   ]
  },
  {
   "cell_type": "code",
   "execution_count": null,
   "metadata": {},
   "outputs": [],
   "source": [
    "f, ax = plt.subplots(figsize=(10, 5))\n",
    "top=table_means_std.sort_values(\"Mean\")\n",
    "ax = sns.barplot(x=\"Mean\" , y=top[:10].index,data=top[:10])\n",
    "ax.set_title(\"Bottom 10 cities Mean\",size=20)\n",
    "f, ax = plt.subplots(figsize=(10, 5))\n",
    "ax = sns.barplot(x=\"Mean\" , y=top[-2:].index,data=top[-2:])\n",
    "ax.set_title(\"Top 10 cities Mean\",size=20)"
   ]
  },
  {
   "cell_type": "code",
   "execution_count": null,
   "metadata": {},
   "outputs": [],
   "source": [
    "palabras=['hurto', 'atraco', 'chorear', 'raponazo', 'cosquilleo', 'bajar', 'tumbar', 'jalar', 'ladron','rata','fleteo','quitaron','chalequear','arrancar','desvalijar']"
   ]
  },
  {
   "cell_type": "code",
   "execution_count": null,
   "metadata": {},
   "outputs": [],
   "source": [
    "fecha_min_global=[]\n",
    "fecha_max_global=[]\n",
    "for i in range(len(archives)):\n",
    "    tsv=os.path.join(folder_tweets,archives[i])\n",
    "    city = get_users_with_tweets(tsv)\n",
    "    fmin,fmax=fecha_min_max_by_city(city)\n",
    "    fecha_min_global.append(fmin)\n",
    "    fecha_max_global.append(fmax)"
   ]
  },
  {
   "cell_type": "code",
   "execution_count": null,
   "metadata": {},
   "outputs": [],
   "source": [
    "min_global=min(fecha_min_global)\n",
    "max_global=max(fecha_max_global)"
   ]
  },
  {
   "cell_type": "code",
   "execution_count": null,
   "metadata": {},
   "outputs": [],
   "source": [
    "print(\"Fecha minima: \"+ str(min_global) )\n",
    "print(\"Fecha maxima: \"+ str(max_global) )"
   ]
  },
  {
   "cell_type": "code",
   "execution_count": null,
   "metadata": {},
   "outputs": [],
   "source": []
  }
 ],
 "metadata": {
  "kernelspec": {
   "display_name": "Env PoS",
   "language": "python",
   "name": "cpulido"
  },
  "language_info": {
   "codemirror_mode": {
    "name": "ipython",
    "version": 2
   },
   "file_extension": ".py",
   "mimetype": "text/x-python",
   "name": "python",
   "nbconvert_exporter": "python",
   "pygments_lexer": "ipython2",
   "version": "2.7.15rc1"
  }
 },
 "nbformat": 4,
 "nbformat_minor": 2
}
