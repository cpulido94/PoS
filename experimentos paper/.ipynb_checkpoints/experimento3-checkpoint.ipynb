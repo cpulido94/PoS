{
 "cells": [
  {
   "cell_type": "code",
   "execution_count": 15,
   "metadata": {
    "scrolled": false
   },
   "outputs": [
    {
     "name": "stdout",
     "output_type": "stream",
     "text": [
      "-------------\n",
      "0.0\n",
      ".\n",
      "-------------\n",
      "0.10013461538461538\n",
      ".\n",
      "-------------\n",
      "0.19803846153846152\n",
      ".\n",
      "-------------\n",
      "0.29890705128205125\n",
      ".\n",
      "-------------\n",
      "0.3979679487179487\n",
      ".\n",
      "-------------\n",
      "0.4983173076923077\n",
      ".\n",
      "-------------\n",
      "0.5977435897435897\n",
      ".\n",
      "-------------\n",
      "0.697875\n",
      ".\n",
      "-------------\n",
      "0.7975608974358974\n",
      ".\n",
      "-------------\n",
      "0.8977115384615385\n",
      ".\n",
      "-------------\n",
      "0.9967948717948718\n",
      ".\n",
      "[[0.30331556 0.44490271 0.976605  ]\n",
      " [0.29591145 0.44457402 0.97695654]\n",
      " [0.28765046 0.44353737 0.97677424]\n",
      " [0.27725402 0.44378859 0.97696001]\n",
      " [0.2666989  0.44500835 0.97719046]\n",
      " [0.25380585 0.44599545 0.97688049]\n",
      " [0.23852548 0.44937484 0.97697147]\n",
      " [0.21977104 0.4517377  0.9767966 ]\n",
      " [0.19535207 0.4538842  0.97713695]\n",
      " [0.1633552  0.46063317 0.97725696]\n",
      " [0.11677405 0.46544062 0.9772672 ]]\n",
      "cantidad de pares de comunicacion\n"
     ]
    },
    {
     "data": {
      "image/png": "[encoded data removed]",
      "text/plain": [
       "<matplotlib.figure.Figure at 0x7f66709d7e50>"
      ]
     },
     "metadata": {},
     "output_type": "display_data"
    },
    {
     "name": "stdout",
     "output_type": "stream",
     "text": [
      "Porcentaje grupos con distinta media de crimen\n",
      "[0.65 0.3  0.05]\n",
      "Vector media de crimen por grupos\n",
      "[0.   0.05 1.7 ]\n",
      "velocidad de olvido\n",
      "0.9\n",
      "impacto de la inseguridad nu\n",
      "0.9\n",
      "Resistencia a la inseguridad mu\n",
      "0.1\n"
     ]
    }
   ],
   "source": [
    "import numpy as np\n",
    "import random\n",
    "import matplotlib.pyplot as plt\n",
    "\n",
    "n = 10000  # numero de personas\n",
    "T = 312  # numero de periodos 6 años \n",
    "s = np.random.rand(n)  # vector PoS de las personas en el intante t, al principio aleatorio\n",
    "g=np.zeros(n)#vector identificacion de grupo\n",
    "psi = 0.9  # velocidad perdida de memoria\n",
    "nu = 0.9  # Impacto de la inseguridad\n",
    "mu = 0.1  # Resistencia a la inseguridad\n",
    "St = np.zeros((T,n ))  # PoS a lo largo del tiempo\n",
    "m = 3  # cantidad de grupos con distinta tasa de crimen por periodo\n",
    "lamda = np.array([0,0.05,1.7])  # tasas de crimen de los grupos\n",
    "lamda[0]=0 #grupo inmune\n",
    "q = np.array([0.65, 0.3, 0.05])  # porcentajes de los grupos en la poblacion total\n",
    "\n",
    "#identificacion de cada sujeto con su respectiva media de crimen \n",
    "for i in range(int(n*q[0])):\n",
    "    g[i]=lamda[0]\n",
    "for i in range(int(n*q[0]),int(n*(q[0]+q[1]))):\n",
    "    g[i]=lamda[1]\n",
    "for i in range(int(n*(q[0]+q[1])),n):\n",
    "    g[i]=lamda[2]\n",
    "\n",
    "        \n",
    "perceptionHomo=np.zeros((11,3))#percepcion segun la homofilia de los 3 grupos\n",
    "homofilia=np.zeros(T)\n",
    "for h in range(11):\n",
    "# calculo de la Pos en el intante t\n",
    "# en t=0 es s\n",
    "    print(\"-------------\")\n",
    "    \n",
    "    St[0] = s\n",
    "    parescom=np.zeros(T)#cantidad pares de comunicacion en cada periodo\n",
    "    commismogrupo=np.zeros(T)#cantidad de comunicaciones en el mismo grupo\n",
    "    for t in range(1,T):\n",
    "        # Al inicio de cada periodo aplicamos la perdida de memoria\n",
    "        s = psi * s\n",
    "        \n",
    "         #pares de comunicacion \n",
    "        #vector de personas aleatoriamente ordenado \n",
    "        apersonas=np.random.permutation(np.arange(n))\n",
    "        #escogemos  10% del extremo izq\n",
    "        pares1=apersonas[:int(n*0.1)]\n",
    "        pares2=np.zeros(len(pares1))\n",
    "        for k in range(len(pares1)):\n",
    "            varhomo=np.random.binomial(1,h/10.0)    \n",
    "            if varhomo==1:#si es 1 se comunica en su mismo grupo\n",
    "            # seleccionamos con quien se da la comunicacion\n",
    "                j = np.random.randint(n)\n",
    "                contador=0\n",
    "                while j in pares1 or j in pares2 or g[pares1[k]]!=g[j]:\n",
    "                    j = np.random.randint(n)\n",
    "                    contador=contador+1\n",
    "                    if contador>5:\n",
    "                        break               \n",
    "            elif varhomo==0:#si es 0 se comunica con otro grupo\n",
    "            # seleccionamos con quien se da la comunicacion\n",
    "                j = np.random.randint(n)\n",
    "                contador=0\n",
    "                while j in pares1 or j in pares2 or g[pares1[k]]==g[j]:\n",
    "                    j = np.random.randint(n)\n",
    "                    contador=contador+1\n",
    "                    if contador>5:\n",
    "                        break\n",
    "            #despues de definir j lo ponemos en el vector pares2\n",
    "            pares2[k]=j       \n",
    "        for k in range(len(pares1)):\n",
    "            aux1=int(pares1[k])\n",
    "            aux2=int(pares2[k])\n",
    "            if s[aux1]<s[aux2]:\n",
    "                s[aux1] = s[aux1] - nu * (s[aux1] - s[aux2])\n",
    "                s[aux2] = s[aux2] - mu * (s[aux2] - s[aux1])\n",
    "            else:\n",
    "                s[aux1] = s[aux1] - mu * (s[aux1] - s[aux2])\n",
    "                s[aux2] = s[aux2] - nu * (s[aux2] - s[aux1])\n",
    "            #medicion de la homofilia\n",
    "            if g[aux1]==g[aux2]:\n",
    "                commismogrupo[t]=commismogrupo[t]+1\n",
    "    \n",
    "    \n",
    "        parescom[t]=len(pares1)\n",
    "        homofilia[t]=commismogrupo[t]/parescom[t]\n",
    "        #crimen                   \n",
    "        for k in range(n):\n",
    "            # numero de crimenes sufridos por la persona k \n",
    "            X = np.random.poisson(g[k])\n",
    "            # posicion hubo crimen o no\n",
    "            I = 0\n",
    "            if X >= 1:  # si hubo al menos un crimen I=1 de lo contrario I=0\n",
    "                I = 1\n",
    "            # efecto del crimen en la percepcion de k para el siguiente periodo\n",
    "            s[k] = I + (1 - I) * s[k]    \n",
    "        St[t] = s\n",
    "    print(np.mean(homofilia))\n",
    "    perceptionHomo[h][0]=np.mean(np.mean(St[104:,range(int(n*q[0]))],axis=1))\n",
    "    perceptionHomo[h][1]=np.mean(np.mean(St[104:,range(int(n*q[0]),int(n*q[0]+n*q[1]))],axis=1))\n",
    "    perceptionHomo[h][2]=np.mean(np.mean(St[104:,range(int(n*q[0]+n*q[1]),n)],axis=1))\n",
    "    print(\".\")\n",
    "print(perceptionHomo)\n",
    "print(\"cantidad de pares de comunicacion\")\n",
    "plt.plot(parescom[1:])\n",
    "plt.show()\n",
    "print(\"Porcentaje grupos con distinta media de crimen\")\n",
    "print(q)\n",
    "print(\"Vector media de crimen por grupos\")\n",
    "print(lamda)\n",
    "print(\"velocidad de olvido\")\n",
    "print(psi)\n",
    "print(\"impacto de la inseguridad nu\")\n",
    "print(nu)\n",
    "print(\"Resistencia a la inseguridad mu\")\n",
    "print(mu)\n"
   ]
  },
  {
   "cell_type": "code",
   "execution_count": 16,
   "metadata": {},
   "outputs": [
    {
     "data": {
      "text/plain": [
       "[<matplotlib.lines.Line2D at 0x7f6652614c50>,\n",
       " <matplotlib.lines.Line2D at 0x7f6652614bd0>,\n",
       " <matplotlib.lines.Line2D at 0x7f6652614890>]"
      ]
     },
     "execution_count": 16,
     "metadata": {},
     "output_type": "execute_result"
    },
    {
     "data": {
      "image/png": "[encoded data removed]",
      "text/plain": [
       "<matplotlib.figure.Figure at 0x7f665252a050>"
      ]
     },
     "metadata": {},
     "output_type": "display_data"
    }
   ],
   "source": [
    "import seaborn as sns\n",
    "sns.set(color_codes=True)\n",
    "plt.figure(figsize=(20,5))\n"
   ]
  },
  {
   "cell_type": "code",
   "execution_count": null,
   "metadata": {},
   "outputs": [],
   "source": [
    "%"
   ]
  }
 ],
 "metadata": {
  "kernelspec": {
   "display_name": "Python 2",
   "language": "python",
   "name": "python2"
  },
  "language_info": {
   "codemirror_mode": {
    "name": "ipython",
    "version": 2
   },
   "file_extension": ".py",
   "mimetype": "text/x-python",
   "name": "python",
   "nbconvert_exporter": "python",
   "pygments_lexer": "ipython2",
   "version": "2.7.12"
  }
 },
 "nbformat": 4,
 "nbformat_minor": 2
}
