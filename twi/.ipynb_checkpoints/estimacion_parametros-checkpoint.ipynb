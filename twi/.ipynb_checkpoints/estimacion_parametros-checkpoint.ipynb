{
 "cells": [
  {
   "cell_type": "code",
   "execution_count": 2,
   "metadata": {},
   "outputs": [],
   "source": [
    "import pandas as pd\n",
    "import numpy as np\n",
    "import os\n",
    "import csv\n",
    "import datetime"
   ]
  },
  {
   "cell_type": "code",
   "execution_count": 3,
   "metadata": {},
   "outputs": [],
   "source": [
    "base_dir=\"/home/runlab/cpulido_POS/Data_twitter/TWITTER_COL/\"\n",
    "folder_tweets=os.path.join(base_dir,\"TWEETS\")\n",
    "archives=os.listdir(folder_tweets)"
   ]
  },
  {
   "cell_type": "code",
   "execution_count": 4,
   "metadata": {},
   "outputs": [],
   "source": [
    "def get_users_with_tweets(folder_tweets):\n",
    "        archivo=open(folder_tweets, 'rb' )\n",
    "        reader = csv.reader(archivo,delimiter='\\t')\n",
    "        tabla=[]\n",
    "        for line in reader:\n",
    "            tabla.append(line)\n",
    "        sujetos={}\n",
    "        for item in reversed(tabla[1:]):\n",
    "            if item[0] not in sujetos:\n",
    "                sujetos[item[0]]={\"tweets\":[],\"lugar\":os.path.splitext(folder_tweets)[0].split(\"_\")[-1]}\n",
    "            tweet=str.split(item[2])\n",
    "            sujetos[item[0]][\"tweets\"].append([item[1],tweet])\n",
    "        return sujetos\n",
    "def number_users(s):\n",
    "        return len(s)\n",
    "\n",
    "def tweets_for_user(s,user_id):\n",
    "        if user_id in s:\n",
    "            return len(s[user_id][\"tweets\"])\n",
    "        else:\n",
    "            return \"User with Id=\"+user_id+\" not found\"\n",
    "\n",
    "def mean_std_tweets_for_users(s):\n",
    "        keys=s.keys()\n",
    "        values=[]\n",
    "        for k in keys:\n",
    "            values.append(len(s[k][\"tweets\"]))\n",
    "        mean=np.mean(values)\n",
    "        std=np.std(values)\n",
    "        return mean,std\n",
    "\n",
    "def fecha_min_max_by_city(s):\n",
    "    fecha_min=datetime.datetime.today()    \n",
    "    fecha_max=datetime.datetime.strptime(\"1950-01-01\",'%Y-%m-%d')\n",
    "    for user in s:\n",
    "        for tweet in s[user][\"tweets\"]:\n",
    "            fecha_tweet=datetime.datetime.strptime(tweet[0],'%Y-%m-%d')\n",
    "            if fecha_tweet < fecha_min:\n",
    "                fecha_min =fecha_tweet\n",
    "            if fecha_tweet > fecha_max:\n",
    "                fecha_max =fecha_tweet\n",
    "    return fecha_min,fecha_max"
   ]
  },
  {
   "cell_type": "code",
   "execution_count": 5,
   "metadata": {},
   "outputs": [],
   "source": [
    "table_means_std=np.zeros((len(archives),3))\n",
    "name_cities=[]\n",
    "for i in range(len(archives)):\n",
    "    tsv=os.path.join(folder_tweets,archives[i])\n",
    "    city = get_users_with_tweets(tsv)\n",
    "    name_cities.append(os.path.splitext(tsv)[0].split(\"_\")[-1])\n",
    "    mean,std=mean_std_tweets_for_users(city)\n",
    "    table_means_std[i]=[number_users(city),mean,std]\n",
    "table_means_std=pd.DataFrame(table_means_std,index=name_cities,columns=[\"Num. Users\", \"Mean\",\"Std\"])\n",
    "table_means_std=table_means_std.sort_index()"
   ]
  },
  {
   "cell_type": "code",
   "execution_count": 6,
   "metadata": {},
   "outputs": [
    {
     "name": "stdout",
     "output_type": "stream",
     "text": [
      "Total users: 1481831.0\n",
      "Total cities: 237\n"
     ]
    }
   ],
   "source": [
    "total_users=table_means_std[\"Num. Users\"].sum()\n",
    "print(\"Total users: \"+str(total_users))\n",
    "print(\"Total cities: \"+str(table_means_std[\"Num. Users\"].count() ))"
   ]
  },
  {
   "cell_type": "code",
   "execution_count": 7,
   "metadata": {
    "scrolled": true
   },
   "outputs": [
    {
     "data": {
      "text/html": [
       "<div>\n",
       "<style scoped>\n",
       "    .dataframe tbody tr th:only-of-type {\n",
       "        vertical-align: middle;\n",
       "    }\n",
       "\n",
       "    .dataframe tbody tr th {\n",
       "        vertical-align: top;\n",
       "    }\n",
       "\n",
       "    .dataframe thead th {\n",
       "        text-align: right;\n",
       "    }\n",
       "</style>\n",
       "<table border=\"1\" class=\"dataframe\">\n",
       "  <thead>\n",
       "    <tr style=\"text-align: right;\">\n",
       "      <th></th>\n",
       "      <th>Num. Users</th>\n",
       "      <th>Mean</th>\n",
       "      <th>Std</th>\n",
       "    </tr>\n",
       "  </thead>\n",
       "  <tbody>\n",
       "    <tr>\n",
       "      <th>Pinillos</th>\n",
       "      <td>93.0</td>\n",
       "      <td>6.827957</td>\n",
       "      <td>29.758752</td>\n",
       "    </tr>\n",
       "    <tr>\n",
       "      <th>Cartagena del Chaira</th>\n",
       "      <td>143.0</td>\n",
       "      <td>3.797203</td>\n",
       "      <td>7.485706</td>\n",
       "    </tr>\n",
       "    <tr>\n",
       "      <th>Tiquisio</th>\n",
       "      <td>152.0</td>\n",
       "      <td>3.598684</td>\n",
       "      <td>5.327757</td>\n",
       "    </tr>\n",
       "    <tr>\n",
       "      <th>Mitu</th>\n",
       "      <td>160.0</td>\n",
       "      <td>3.987500</td>\n",
       "      <td>7.705507</td>\n",
       "    </tr>\n",
       "    <tr>\n",
       "      <th>Puerto Rico</th>\n",
       "      <td>173.0</td>\n",
       "      <td>5.161850</td>\n",
       "      <td>15.829560</td>\n",
       "    </tr>\n",
       "    <tr>\n",
       "      <th>Astrea</th>\n",
       "      <td>194.0</td>\n",
       "      <td>4.247423</td>\n",
       "      <td>8.842879</td>\n",
       "    </tr>\n",
       "    <tr>\n",
       "      <th>Vistahermosa</th>\n",
       "      <td>203.0</td>\n",
       "      <td>2.901478</td>\n",
       "      <td>3.896461</td>\n",
       "    </tr>\n",
       "    <tr>\n",
       "      <th>El Charco</th>\n",
       "      <td>222.0</td>\n",
       "      <td>3.261261</td>\n",
       "      <td>4.597711</td>\n",
       "    </tr>\n",
       "    <tr>\n",
       "      <th>Inirida</th>\n",
       "      <td>236.0</td>\n",
       "      <td>4.694915</td>\n",
       "      <td>7.269053</td>\n",
       "    </tr>\n",
       "    <tr>\n",
       "      <th>San Antonio</th>\n",
       "      <td>240.0</td>\n",
       "      <td>4.954167</td>\n",
       "      <td>8.283139</td>\n",
       "    </tr>\n",
       "  </tbody>\n",
       "</table>\n",
       "</div>"
      ],
      "text/plain": [
       "                      Num. Users      Mean        Std\n",
       "Pinillos                    93.0  6.827957  29.758752\n",
       "Cartagena del Chaira       143.0  3.797203   7.485706\n",
       "Tiquisio                   152.0  3.598684   5.327757\n",
       "Mitu                       160.0  3.987500   7.705507\n",
       "Puerto Rico                173.0  5.161850  15.829560\n",
       "Astrea                     194.0  4.247423   8.842879\n",
       "Vistahermosa               203.0  2.901478   3.896461\n",
       "El Charco                  222.0  3.261261   4.597711\n",
       "Inirida                    236.0  4.694915   7.269053\n",
       "San Antonio                240.0  4.954167   8.283139"
      ]
     },
     "execution_count": 7,
     "metadata": {},
     "output_type": "execute_result"
    }
   ],
   "source": [
    "table_means_std.sort_values(\"Num. Users\")[:10]"
   ]
  },
  {
   "cell_type": "code",
   "execution_count": 8,
   "metadata": {},
   "outputs": [
    {
     "data": {
      "text/html": [
       "<div>\n",
       "<style scoped>\n",
       "    .dataframe tbody tr th:only-of-type {\n",
       "        vertical-align: middle;\n",
       "    }\n",
       "\n",
       "    .dataframe tbody tr th {\n",
       "        vertical-align: top;\n",
       "    }\n",
       "\n",
       "    .dataframe thead th {\n",
       "        text-align: right;\n",
       "    }\n",
       "</style>\n",
       "<table border=\"1\" class=\"dataframe\">\n",
       "  <thead>\n",
       "    <tr style=\"text-align: right;\">\n",
       "      <th></th>\n",
       "      <th>Num. Users</th>\n",
       "      <th>Mean</th>\n",
       "      <th>Std</th>\n",
       "    </tr>\n",
       "  </thead>\n",
       "  <tbody>\n",
       "    <tr>\n",
       "      <th>Bucaramanga</th>\n",
       "      <td>36126.0</td>\n",
       "      <td>27.089492</td>\n",
       "      <td>124.955717</td>\n",
       "    </tr>\n",
       "    <tr>\n",
       "      <th>Cucuta</th>\n",
       "      <td>43301.0</td>\n",
       "      <td>23.079467</td>\n",
       "      <td>79.626388</td>\n",
       "    </tr>\n",
       "    <tr>\n",
       "      <th>Rionegro</th>\n",
       "      <td>44078.0</td>\n",
       "      <td>14.002654</td>\n",
       "      <td>63.697153</td>\n",
       "    </tr>\n",
       "    <tr>\n",
       "      <th>Ibague</th>\n",
       "      <td>44292.0</td>\n",
       "      <td>26.468030</td>\n",
       "      <td>109.562850</td>\n",
       "    </tr>\n",
       "    <tr>\n",
       "      <th>Cartagena</th>\n",
       "      <td>46469.0</td>\n",
       "      <td>17.119069</td>\n",
       "      <td>81.890633</td>\n",
       "    </tr>\n",
       "    <tr>\n",
       "      <th>Cali</th>\n",
       "      <td>52743.0</td>\n",
       "      <td>23.411088</td>\n",
       "      <td>117.507160</td>\n",
       "    </tr>\n",
       "    <tr>\n",
       "      <th>Barranquilla</th>\n",
       "      <td>57805.0</td>\n",
       "      <td>32.372407</td>\n",
       "      <td>118.530495</td>\n",
       "    </tr>\n",
       "    <tr>\n",
       "      <th>Guatape</th>\n",
       "      <td>67283.0</td>\n",
       "      <td>17.254061</td>\n",
       "      <td>80.516662</td>\n",
       "    </tr>\n",
       "    <tr>\n",
       "      <th>Medellin</th>\n",
       "      <td>70540.0</td>\n",
       "      <td>21.213453</td>\n",
       "      <td>99.841656</td>\n",
       "    </tr>\n",
       "    <tr>\n",
       "      <th>Bogota</th>\n",
       "      <td>159508.0</td>\n",
       "      <td>18.747756</td>\n",
       "      <td>132.947847</td>\n",
       "    </tr>\n",
       "  </tbody>\n",
       "</table>\n",
       "</div>"
      ],
      "text/plain": [
       "              Num. Users       Mean         Std\n",
       "Bucaramanga      36126.0  27.089492  124.955717\n",
       "Cucuta           43301.0  23.079467   79.626388\n",
       "Rionegro         44078.0  14.002654   63.697153\n",
       "Ibague           44292.0  26.468030  109.562850\n",
       "Cartagena        46469.0  17.119069   81.890633\n",
       "Cali             52743.0  23.411088  117.507160\n",
       "Barranquilla     57805.0  32.372407  118.530495\n",
       "Guatape          67283.0  17.254061   80.516662\n",
       "Medellin         70540.0  21.213453   99.841656\n",
       "Bogota          159508.0  18.747756  132.947847"
      ]
     },
     "execution_count": 8,
     "metadata": {},
     "output_type": "execute_result"
    }
   ],
   "source": [
    "table_means_std.sort_values(\"Num. Users\")[-10:]"
   ]
  },
  {
   "cell_type": "code",
   "execution_count": 10,
   "metadata": {},
   "outputs": [
    {
     "data": {
      "text/plain": [
       "Text(0.5,1,'Top 10 cities Num. Users')"
      ]
     },
     "execution_count": 10,
     "metadata": {},
     "output_type": "execute_result"
    },
    {
     "data": {
      "image/png": "[encoded data removed]",
      "text/plain": [
       "<Figure size 720x360 with 1 Axes>"
      ]
     },
     "metadata": {},
     "output_type": "display_data"
    },
    {
     "data": {
      "image/png": "[encoded data removed]",
      "text/plain": [
       "<Figure size 720x360 with 1 Axes>"
      ]
     },
     "metadata": {},
     "output_type": "display_data"
    }
   ],
   "source": [
    "import seaborn as sns\n",
    "import matplotlib.pyplot as plt\n",
    "f, ax = plt.subplots(figsize=(10, 5))\n",
    "top=table_means_std.sort_values(\"Num. Users\")\n",
    "ax = sns.barplot(x=\"Num. Users\" , y=top[:10].index,data=top[:10])\n",
    "ax.set_xscale('log')\n",
    "ax.set_title(\"Bottom 10 cities Num. Users\",size=20)\n",
    "f, ax = plt.subplots(figsize=(10, 5))\n",
    "ax = sns.barplot(x=\"Num. Users\" , y=top[-10:].index,data=top[-10:])\n",
    "ax.set_xscale('log')\n",
    "ax.set_title(\"Top 10 cities Num. Users\",size=20)"
   ]
  },
  {
   "cell_type": "code",
   "execution_count": 11,
   "metadata": {},
   "outputs": [
    {
     "data": {
      "text/html": [
       "<div>\n",
       "<style scoped>\n",
       "    .dataframe tbody tr th:only-of-type {\n",
       "        vertical-align: middle;\n",
       "    }\n",
       "\n",
       "    .dataframe tbody tr th {\n",
       "        vertical-align: top;\n",
       "    }\n",
       "\n",
       "    .dataframe thead th {\n",
       "        text-align: right;\n",
       "    }\n",
       "</style>\n",
       "<table border=\"1\" class=\"dataframe\">\n",
       "  <thead>\n",
       "    <tr style=\"text-align: right;\">\n",
       "      <th></th>\n",
       "      <th>Num. Users</th>\n",
       "      <th>Mean</th>\n",
       "      <th>Std</th>\n",
       "    </tr>\n",
       "  </thead>\n",
       "  <tbody>\n",
       "    <tr>\n",
       "      <th>Aquitania</th>\n",
       "      <td>1242.0</td>\n",
       "      <td>2.191626</td>\n",
       "      <td>4.258022</td>\n",
       "    </tr>\n",
       "    <tr>\n",
       "      <th>San Luis</th>\n",
       "      <td>932.0</td>\n",
       "      <td>2.384120</td>\n",
       "      <td>4.857242</td>\n",
       "    </tr>\n",
       "    <tr>\n",
       "      <th>Aipe</th>\n",
       "      <td>919.0</td>\n",
       "      <td>2.421110</td>\n",
       "      <td>4.002995</td>\n",
       "    </tr>\n",
       "    <tr>\n",
       "      <th>San Juan del Cesar</th>\n",
       "      <td>491.0</td>\n",
       "      <td>2.610998</td>\n",
       "      <td>4.919039</td>\n",
       "    </tr>\n",
       "    <tr>\n",
       "      <th>Algeciras</th>\n",
       "      <td>532.0</td>\n",
       "      <td>2.750000</td>\n",
       "      <td>4.441717</td>\n",
       "    </tr>\n",
       "    <tr>\n",
       "      <th>Necocli</th>\n",
       "      <td>533.0</td>\n",
       "      <td>2.855535</td>\n",
       "      <td>3.806254</td>\n",
       "    </tr>\n",
       "    <tr>\n",
       "      <th>Vistahermosa</th>\n",
       "      <td>203.0</td>\n",
       "      <td>2.901478</td>\n",
       "      <td>3.896461</td>\n",
       "    </tr>\n",
       "    <tr>\n",
       "      <th>Dibulla</th>\n",
       "      <td>595.0</td>\n",
       "      <td>2.939496</td>\n",
       "      <td>7.318197</td>\n",
       "    </tr>\n",
       "    <tr>\n",
       "      <th>El Bordo</th>\n",
       "      <td>436.0</td>\n",
       "      <td>2.954128</td>\n",
       "      <td>4.589348</td>\n",
       "    </tr>\n",
       "    <tr>\n",
       "      <th>Yolombo</th>\n",
       "      <td>737.0</td>\n",
       "      <td>2.956581</td>\n",
       "      <td>5.974234</td>\n",
       "    </tr>\n",
       "  </tbody>\n",
       "</table>\n",
       "</div>"
      ],
      "text/plain": [
       "                    Num. Users      Mean       Std\n",
       "Aquitania               1242.0  2.191626  4.258022\n",
       "San Luis                 932.0  2.384120  4.857242\n",
       "Aipe                     919.0  2.421110  4.002995\n",
       "San Juan del Cesar       491.0  2.610998  4.919039\n",
       "Algeciras                532.0  2.750000  4.441717\n",
       "Necocli                  533.0  2.855535  3.806254\n",
       "Vistahermosa             203.0  2.901478  3.896461\n",
       "Dibulla                  595.0  2.939496  7.318197\n",
       "El Bordo                 436.0  2.954128  4.589348\n",
       "Yolombo                  737.0  2.956581  5.974234"
      ]
     },
     "execution_count": 11,
     "metadata": {},
     "output_type": "execute_result"
    }
   ],
   "source": [
    "table_means_std.sort_values(\"Mean\")[:10]"
   ]
  },
  {
   "cell_type": "code",
   "execution_count": 12,
   "metadata": {},
   "outputs": [
    {
     "data": {
      "text/html": [
       "<div>\n",
       "<style scoped>\n",
       "    .dataframe tbody tr th:only-of-type {\n",
       "        vertical-align: middle;\n",
       "    }\n",
       "\n",
       "    .dataframe tbody tr th {\n",
       "        vertical-align: top;\n",
       "    }\n",
       "\n",
       "    .dataframe thead th {\n",
       "        text-align: right;\n",
       "    }\n",
       "</style>\n",
       "<table border=\"1\" class=\"dataframe\">\n",
       "  <thead>\n",
       "    <tr style=\"text-align: right;\">\n",
       "      <th></th>\n",
       "      <th>Num. Users</th>\n",
       "      <th>Mean</th>\n",
       "      <th>Std</th>\n",
       "    </tr>\n",
       "  </thead>\n",
       "  <tbody>\n",
       "    <tr>\n",
       "      <th>Ibague</th>\n",
       "      <td>44292.0</td>\n",
       "      <td>26.468030</td>\n",
       "      <td>109.562850</td>\n",
       "    </tr>\n",
       "    <tr>\n",
       "      <th>Guamal</th>\n",
       "      <td>858.0</td>\n",
       "      <td>26.778555</td>\n",
       "      <td>71.400834</td>\n",
       "    </tr>\n",
       "    <tr>\n",
       "      <th>Bucaramanga</th>\n",
       "      <td>36126.0</td>\n",
       "      <td>27.089492</td>\n",
       "      <td>124.955717</td>\n",
       "    </tr>\n",
       "    <tr>\n",
       "      <th>Pereira</th>\n",
       "      <td>31278.0</td>\n",
       "      <td>27.700876</td>\n",
       "      <td>118.475133</td>\n",
       "    </tr>\n",
       "    <tr>\n",
       "      <th>Manizales</th>\n",
       "      <td>23985.0</td>\n",
       "      <td>27.828518</td>\n",
       "      <td>127.263758</td>\n",
       "    </tr>\n",
       "    <tr>\n",
       "      <th>Valledupar</th>\n",
       "      <td>22438.0</td>\n",
       "      <td>28.482129</td>\n",
       "      <td>104.649794</td>\n",
       "    </tr>\n",
       "    <tr>\n",
       "      <th>Barranquilla</th>\n",
       "      <td>57805.0</td>\n",
       "      <td>32.372407</td>\n",
       "      <td>118.530495</td>\n",
       "    </tr>\n",
       "    <tr>\n",
       "      <th>Ocaña</th>\n",
       "      <td>6553.0</td>\n",
       "      <td>33.045018</td>\n",
       "      <td>114.603838</td>\n",
       "    </tr>\n",
       "    <tr>\n",
       "      <th>Monteria</th>\n",
       "      <td>16153.0</td>\n",
       "      <td>36.943292</td>\n",
       "      <td>139.652142</td>\n",
       "    </tr>\n",
       "    <tr>\n",
       "      <th>Quibdo</th>\n",
       "      <td>3768.0</td>\n",
       "      <td>42.140393</td>\n",
       "      <td>170.487713</td>\n",
       "    </tr>\n",
       "  </tbody>\n",
       "</table>\n",
       "</div>"
      ],
      "text/plain": [
       "              Num. Users       Mean         Std\n",
       "Ibague           44292.0  26.468030  109.562850\n",
       "Guamal             858.0  26.778555   71.400834\n",
       "Bucaramanga      36126.0  27.089492  124.955717\n",
       "Pereira          31278.0  27.700876  118.475133\n",
       "Manizales        23985.0  27.828518  127.263758\n",
       "Valledupar       22438.0  28.482129  104.649794\n",
       "Barranquilla     57805.0  32.372407  118.530495\n",
       "Ocaña             6553.0  33.045018  114.603838\n",
       "Monteria         16153.0  36.943292  139.652142\n",
       "Quibdo            3768.0  42.140393  170.487713"
      ]
     },
     "execution_count": 12,
     "metadata": {},
     "output_type": "execute_result"
    }
   ],
   "source": [
    "table_means_std.sort_values(\"Mean\")[-10:]"
   ]
  },
  {
   "cell_type": "code",
   "execution_count": 13,
   "metadata": {},
   "outputs": [
    {
     "data": {
      "text/plain": [
       "Text(0.5,1,'Top 10 cities Mean')"
      ]
     },
     "execution_count": 13,
     "metadata": {},
     "output_type": "execute_result"
    },
    {
     "data": {
      "image/png": "[encoded data removed]",
      "text/plain": [
       "<Figure size 720x360 with 1 Axes>"
      ]
     },
     "metadata": {},
     "output_type": "display_data"
    },
    {
     "data": {
      "image/png": "[encoded data removed]",
      "text/plain": [
       "<Figure size 720x360 with 1 Axes>"
      ]
     },
     "metadata": {},
     "output_type": "display_data"
    }
   ],
   "source": [
    "f, ax = plt.subplots(figsize=(10, 5))\n",
    "top=table_means_std.sort_values(\"Mean\")\n",
    "ax = sns.barplot(x=\"Mean\" , y=top[:10].index,data=top[:10])\n",
    "ax.set_title(\"Bottom 10 cities Mean\",size=20)\n",
    "f, ax = plt.subplots(figsize=(10, 5))\n",
    "ax = sns.barplot(x=\"Mean\" , y=top[-2:].index,data=top[-2:])\n",
    "ax.set_title(\"Top 10 cities Mean\",size=20)"
   ]
  },
  {
   "cell_type": "code",
   "execution_count": 6,
   "metadata": {},
   "outputs": [],
   "source": [
    "fecha_min_global=[]\n",
    "fecha_max_global=[]\n",
    "for i in range(len(archives)):\n",
    "    tsv=os.path.join(folder_tweets,archives[i])\n",
    "    city = get_users_with_tweets(tsv)\n",
    "    fmin,fmax=fecha_min_max_by_city(city)\n",
    "    fecha_min_global.append(fmin)\n",
    "    fecha_max_global.append(fmax)"
   ]
  },
  {
   "cell_type": "code",
   "execution_count": 7,
   "metadata": {},
   "outputs": [],
   "source": [
    "min_global=min(fecha_min_global)\n",
    "max_global=max(fecha_max_global)"
   ]
  },
  {
   "cell_type": "code",
   "execution_count": 8,
   "metadata": {},
   "outputs": [
    {
     "name": "stdout",
     "output_type": "stream",
     "text": [
      "Fecha minima: 2010-09-10 00:00:00\n",
      "Fecha maxima: 2016-12-31 00:00:00\n"
     ]
    }
   ],
   "source": [
    "print(\"Fecha minima: \"+ str(min_global) )\n",
    "print(\"Fecha maxima: \"+ str(max_global) )"
   ]
  }
 ],
 "metadata": {
  "kernelspec": {
   "display_name": "Env PoS",
   "language": "python",
   "name": "cpulido"
  },
  "language_info": {
   "codemirror_mode": {
    "name": "ipython",
    "version": 2
   },
   "file_extension": ".py",
   "mimetype": "text/x-python",
   "name": "python",
   "nbconvert_exporter": "python",
   "pygments_lexer": "ipython2",
   "version": "2.7.15rc1"
  }
 },
 "nbformat": 4,
 "nbformat_minor": 2
}
